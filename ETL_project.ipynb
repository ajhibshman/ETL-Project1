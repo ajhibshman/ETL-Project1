{
 "cells": [
  {
   "cell_type": "code",
   "execution_count": 26,
   "metadata": {},
   "outputs": [],
   "source": [
    "##notebook to extract data from Resource CSVs, Clean and Transform Data and export to a SQL database"
   ]
  },
  {
   "cell_type": "code",
   "execution_count": 27,
   "metadata": {},
   "outputs": [],
   "source": [
    "#dependencies\n",
    "import pandas as pd\n",
    "from sqlalchemy import create_engine"
   ]
  },
  {
   "cell_type": "code",
   "execution_count": 28,
   "metadata": {},
   "outputs": [],
   "source": [
    "#2020 Voter Turnout Data (source Electionproject.org)"
   ]
  },
  {
   "cell_type": "code",
   "execution_count": 29,
   "metadata": {},
   "outputs": [],
   "source": [
    "csv_file = \"Resources/2020_General_Election_ElectionProject.csv\"\n",
    "voter_2020_df=pd.read_csv(csv_file, encoding='UTF-8')\n"
   ]
  },
  {
   "cell_type": "code",
   "execution_count": 30,
   "metadata": {},
   "outputs": [],
   "source": [
    "voter_2020_df=voter_2020_df.drop([0,1])\n"
   ]
  },
  {
   "cell_type": "code",
   "execution_count": 31,
   "metadata": {},
   "outputs": [],
   "source": [
    "#rename and drop unneccessary columns and row, reset index \n",
    "voter_2020_df=voter_2020_df[['State','Unnamed: 3','Unnamed: 5','Denominators','Unnamed: 14']]\n",
    "voter_2020_df=voter_2020_df.rename(columns={\"State\":\"state\",\"Unnamed: 3\": \"total_votes_2020\", \"Unnamed: 5\": \"vep_percent_2020\",\"Denominators\":\"vep_2020\",\"Unnamed: 14\":\"state_id\"})\n",
    "voter_2020_df=voter_2020_df.reset_index()\n",
    "voter_2020_df=voter_2020_df.drop(columns=['index'])\n",
    "voter_2020_df=voter_2020_df.drop([51])\n",
    "#voter_2020_df.head(55)"
   ]
  },
  {
   "cell_type": "code",
   "execution_count": 32,
   "metadata": {},
   "outputs": [
    {
     "data": {
      "text/plain": [
       "state                object\n",
       "total_votes_2020      int64\n",
       "vep_percent_2020    float64\n",
       "vep_2020              int64\n",
       "state_id             object\n",
       "dtype: object"
      ]
     },
     "execution_count": 32,
     "metadata": {},
     "output_type": "execute_result"
    }
   ],
   "source": [
    "#reformat numeric columns\n",
    "voter_2020_df = voter_2020_df.replace(',','', regex=True)\n",
    "voter_2020_df = voter_2020_df.replace('%','', regex=True)\n",
    "voter_2020_df['total_votes_2020'] = voter_2020_df['total_votes_2020'].apply(pd.to_numeric, errors='coerce')\n",
    "voter_2020_df['vep_percent_2020'] = voter_2020_df['vep_percent_2020'].apply(pd.to_numeric, errors='coerce')\n",
    "voter_2020_df['vep_2020'] = voter_2020_df['vep_2020'].apply(pd.to_numeric, errors='coerce')\n",
    "\n",
    "voter_2020_df.head()\n",
    "voter_2020_df.dtypes"
   ]
  },
  {
   "cell_type": "code",
   "execution_count": 33,
   "metadata": {},
   "outputs": [],
   "source": [
    "#2016 Voter Turnout Data (source Electionproject.org)"
   ]
  },
  {
   "cell_type": "code",
   "execution_count": 34,
   "metadata": {},
   "outputs": [],
   "source": [
    "csv_file = \"Resources/2016_General_Election_ElectionProject.csv\"\n",
    "voter_2016_df=pd.read_csv(csv_file, encoding='UTF-8')\n"
   ]
  },
  {
   "cell_type": "code",
   "execution_count": 35,
   "metadata": {},
   "outputs": [],
   "source": [
    "voter_2016_df=voter_2016_df.drop([0,1])\n"
   ]
  },
  {
   "cell_type": "code",
   "execution_count": 36,
   "metadata": {},
   "outputs": [],
   "source": [
    "#rename and drop unneccessary columns, reset index to State\n",
    "voter_2016_df=voter_2016_df[['State','Unnamed: 7','Unnamed: 4','Denominators','Unnamed: 16']]\n",
    "voter_2016_df=voter_2016_df.rename(columns={\"State\":\"state\",\"Unnamed: 7\": \"total_votes_2016\", \"Unnamed: 4\": \"vep_percent_2016\",\"Denominators\":\"vep_2016\",\"Unnamed: 16\":\"state_id\"})\n",
    "voter_2016_df=voter_2016_df.reset_index()\n",
    "voter_2016_df=voter_2016_df.drop(columns=['index'])\n",
    "voter_2016_df=voter_2016_df.drop([51])\n",
    "#voter_2016_df.head(51)"
   ]
  },
  {
   "cell_type": "code",
   "execution_count": 37,
   "metadata": {},
   "outputs": [
    {
     "data": {
      "text/plain": [
       "state                object\n",
       "total_votes_2016      int64\n",
       "vep_percent_2016    float64\n",
       "vep_2016              int64\n",
       "state_id             object\n",
       "dtype: object"
      ]
     },
     "execution_count": 37,
     "metadata": {},
     "output_type": "execute_result"
    }
   ],
   "source": [
    "#reformat numeric columns\n",
    "voter_2016_df = voter_2016_df.replace(',','', regex=True)\n",
    "voter_2016_df = voter_2016_df.replace('%','', regex=True)\n",
    "voter_2016_df['total_votes_2016'] = voter_2016_df['total_votes_2016'].apply(pd.to_numeric, errors='coerce')\n",
    "voter_2016_df['vep_percent_2016'] = voter_2016_df['vep_percent_2016'].apply(pd.to_numeric, errors='coerce')\n",
    "voter_2016_df['vep_2016'] = voter_2016_df['vep_2016'].apply(pd.to_numeric, errors='coerce')\n",
    "\n",
    "voter_2016_df.head()\n",
    "voter_2016_df.dtypes"
   ]
  },
  {
   "cell_type": "code",
   "execution_count": 38,
   "metadata": {},
   "outputs": [],
   "source": [
    "#2016 Election Results (source New York Times \"https://www.nytimes.com/elections/2016/results/president\")"
   ]
  },
  {
   "cell_type": "code",
   "execution_count": 39,
   "metadata": {},
   "outputs": [
    {
     "data": {
      "text/html": [
       "<div>\n",
       "<style scoped>\n",
       "    .dataframe tbody tr th:only-of-type {\n",
       "        vertical-align: middle;\n",
       "    }\n",
       "\n",
       "    .dataframe tbody tr th {\n",
       "        vertical-align: top;\n",
       "    }\n",
       "\n",
       "    .dataframe thead th {\n",
       "        text-align: right;\n",
       "    }\n",
       "</style>\n",
       "<table border=\"1\" class=\"dataframe\">\n",
       "  <thead>\n",
       "    <tr style=\"text-align: right;\">\n",
       "      <th></th>\n",
       "      <th>STATE</th>\n",
       "      <th>DEM.</th>\n",
       "      <th>REP.</th>\n",
       "      <th>OTH.</th>\n",
       "      <th>% RPT.</th>\n",
       "    </tr>\n",
       "  </thead>\n",
       "  <tbody>\n",
       "    <tr>\n",
       "      <th>0</th>\n",
       "      <td>Calif.</td>\n",
       "      <td>62%</td>\n",
       "      <td>32%</td>\n",
       "      <td>3%</td>\n",
       "      <td>100%</td>\n",
       "    </tr>\n",
       "    <tr>\n",
       "      <th>1</th>\n",
       "      <td>D.C.</td>\n",
       "      <td>91%</td>\n",
       "      <td>4%</td>\n",
       "      <td>2%</td>\n",
       "      <td>100%</td>\n",
       "    </tr>\n",
       "    <tr>\n",
       "      <th>2</th>\n",
       "      <td>Hawaii</td>\n",
       "      <td>62%</td>\n",
       "      <td>30%</td>\n",
       "      <td>4%</td>\n",
       "      <td>100%</td>\n",
       "    </tr>\n",
       "    <tr>\n",
       "      <th>3</th>\n",
       "      <td>Md.</td>\n",
       "      <td>60%</td>\n",
       "      <td>34%</td>\n",
       "      <td>3%</td>\n",
       "      <td>100%</td>\n",
       "    </tr>\n",
       "    <tr>\n",
       "      <th>4</th>\n",
       "      <td>Mass.</td>\n",
       "      <td>60%</td>\n",
       "      <td>33%</td>\n",
       "      <td>4%</td>\n",
       "      <td>100%</td>\n",
       "    </tr>\n",
       "  </tbody>\n",
       "</table>\n",
       "</div>"
      ],
      "text/plain": [
       "    STATE DEM. REP. OTH. % RPT.\n",
       "0  Calif.  62%  32%   3%   100%\n",
       "1    D.C.  91%   4%   2%   100%\n",
       "2  Hawaii  62%  30%   4%   100%\n",
       "3     Md.  60%  34%   3%   100%\n",
       "4   Mass.  60%  33%   4%   100%"
      ]
     },
     "execution_count": 39,
     "metadata": {},
     "output_type": "execute_result"
    }
   ],
   "source": [
    "csv_file = \"Resources/2016_Results.csv\"\n",
    "Results_2016_df=pd.read_csv(csv_file, encoding='UTF-8')\n",
    "Results_2016_df.head()"
   ]
  },
  {
   "cell_type": "raw",
   "metadata": {},
   "source": [
    "#rename states to conform with turnout tables\n",
    "STATE_list = Results_2016_df['STATE'].tolist()\n",
    "STATE_list"
   ]
  },
  {
   "cell_type": "code",
   "execution_count": 40,
   "metadata": {},
   "outputs": [],
   "source": [
    "#Create new to add to DF with proper state names\n",
    "State_ID=['CA',\n",
    " 'DC',\n",
    " 'HI',\n",
    " 'MD',\n",
    " 'MA',\n",
    " 'NY',\n",
    " 'RI',\n",
    " 'VT',\n",
    " 'CT',\n",
    " 'DE',\n",
    " 'IL',\n",
    " 'ME',\n",
    " 'MI',\n",
    " 'NJ',\n",
    " 'NM',\n",
    " 'OR',\n",
    " 'WA',\n",
    " 'CO',\n",
    " 'FL',\n",
    " 'IA',\n",
    " 'MN',\n",
    " 'NV',\n",
    " 'NH',\n",
    " 'OH',\n",
    " 'PA',\n",
    " 'VA',\n",
    " 'WI',\n",
    " 'AZ',\n",
    " 'GA',\n",
    " 'IN',\n",
    " 'MO',\n",
    " 'NC',\n",
    " 'AL',\n",
    " 'AK',\n",
    " 'AR',\n",
    " 'ID',\n",
    " 'KS',\n",
    " 'KY',\n",
    " 'LA',\n",
    " 'MS',\n",
    " 'MT',\n",
    " 'NE',\n",
    " 'ND',\n",
    " 'OK',\n",
    " 'SC',\n",
    " 'SD',\n",
    " 'TN',\n",
    " 'TX',\n",
    " 'UT',\n",
    " 'WV',\n",
    " 'WY']"
   ]
  },
  {
   "cell_type": "code",
   "execution_count": 41,
   "metadata": {},
   "outputs": [
    {
     "data": {
      "text/html": [
       "<div>\n",
       "<style scoped>\n",
       "    .dataframe tbody tr th:only-of-type {\n",
       "        vertical-align: middle;\n",
       "    }\n",
       "\n",
       "    .dataframe tbody tr th {\n",
       "        vertical-align: top;\n",
       "    }\n",
       "\n",
       "    .dataframe thead th {\n",
       "        text-align: right;\n",
       "    }\n",
       "</style>\n",
       "<table border=\"1\" class=\"dataframe\">\n",
       "  <thead>\n",
       "    <tr style=\"text-align: right;\">\n",
       "      <th></th>\n",
       "      <th>STATE</th>\n",
       "      <th>DEM.</th>\n",
       "      <th>REP.</th>\n",
       "      <th>OTH.</th>\n",
       "      <th>% RPT.</th>\n",
       "      <th>State_ID</th>\n",
       "    </tr>\n",
       "  </thead>\n",
       "  <tbody>\n",
       "    <tr>\n",
       "      <th>0</th>\n",
       "      <td>Calif.</td>\n",
       "      <td>62%</td>\n",
       "      <td>32%</td>\n",
       "      <td>3%</td>\n",
       "      <td>100%</td>\n",
       "      <td>CA</td>\n",
       "    </tr>\n",
       "    <tr>\n",
       "      <th>1</th>\n",
       "      <td>D.C.</td>\n",
       "      <td>91%</td>\n",
       "      <td>4%</td>\n",
       "      <td>2%</td>\n",
       "      <td>100%</td>\n",
       "      <td>DC</td>\n",
       "    </tr>\n",
       "    <tr>\n",
       "      <th>2</th>\n",
       "      <td>Hawaii</td>\n",
       "      <td>62%</td>\n",
       "      <td>30%</td>\n",
       "      <td>4%</td>\n",
       "      <td>100%</td>\n",
       "      <td>HI</td>\n",
       "    </tr>\n",
       "    <tr>\n",
       "      <th>3</th>\n",
       "      <td>Md.</td>\n",
       "      <td>60%</td>\n",
       "      <td>34%</td>\n",
       "      <td>3%</td>\n",
       "      <td>100%</td>\n",
       "      <td>MD</td>\n",
       "    </tr>\n",
       "    <tr>\n",
       "      <th>4</th>\n",
       "      <td>Mass.</td>\n",
       "      <td>60%</td>\n",
       "      <td>33%</td>\n",
       "      <td>4%</td>\n",
       "      <td>100%</td>\n",
       "      <td>MA</td>\n",
       "    </tr>\n",
       "  </tbody>\n",
       "</table>\n",
       "</div>"
      ],
      "text/plain": [
       "    STATE DEM. REP. OTH. % RPT. State_ID\n",
       "0  Calif.  62%  32%   3%   100%       CA\n",
       "1    D.C.  91%   4%   2%   100%       DC\n",
       "2  Hawaii  62%  30%   4%   100%       HI\n",
       "3     Md.  60%  34%   3%   100%       MD\n",
       "4   Mass.  60%  33%   4%   100%       MA"
      ]
     },
     "execution_count": 41,
     "metadata": {},
     "output_type": "execute_result"
    }
   ],
   "source": [
    "Results_2016_df['State_ID'] = State_ID\n",
    "Results_2016_df.head()"
   ]
  },
  {
   "cell_type": "code",
   "execution_count": 42,
   "metadata": {},
   "outputs": [],
   "source": [
    "#sort Alphabetically by State\n",
    "#drop STATE, %RPT\n",
    "#reset index\n",
    "Results_2016_df=Results_2016_df[[\"State_ID\",\"STATE\",\"DEM.\",\"REP.\",\"OTH.\"]]\n",
    "Results_2016_df=Results_2016_df.rename(columns={\"State_ID\":\"state_id\",\"STATE\":\"state\",\"DEM.\": \"dem_percent\", \"REP.\": \"rep_percent\",\"OTH.\":\"other_percent\"})\n",
    "#Results_2016_df.head(52)"
   ]
  },
  {
   "cell_type": "code",
   "execution_count": 43,
   "metadata": {},
   "outputs": [
    {
     "data": {
      "text/plain": [
       "state_id         object\n",
       "state            object\n",
       "dem_percent       int64\n",
       "rep_percent       int64\n",
       "other_percent     int64\n",
       "dtype: object"
      ]
     },
     "execution_count": 43,
     "metadata": {},
     "output_type": "execute_result"
    }
   ],
   "source": [
    "#state_id\tstate\tdem_percent\trep_percent\tother_percent\n",
    "#reformat numeric columns\n",
    "\n",
    "Results_2016_df = Results_2016_df.replace('%','', regex=True)\n",
    "Results_2016_df['dem_percent'] = Results_2016_df['dem_percent'].apply(pd.to_numeric, errors='coerce')\n",
    "Results_2016_df['rep_percent'] = Results_2016_df['rep_percent'].apply(pd.to_numeric, errors='coerce')\n",
    "Results_2016_df['other_percent'] = Results_2016_df['other_percent'].apply(pd.to_numeric, errors='coerce')\n",
    "\n",
    "Results_2016_df.head()\n",
    "Results_2016_df.dtypes\n"
   ]
  },
  {
   "cell_type": "code",
   "execution_count": 44,
   "metadata": {},
   "outputs": [],
   "source": [
    "#2020 Election Results (source cook political report \"https://cookpolitical.com/2020-national-popular-vote-tracker\")"
   ]
  },
  {
   "cell_type": "code",
   "execution_count": 45,
   "metadata": {},
   "outputs": [
    {
     "data": {
      "text/html": [
       "<div>\n",
       "<style scoped>\n",
       "    .dataframe tbody tr th:only-of-type {\n",
       "        vertical-align: middle;\n",
       "    }\n",
       "\n",
       "    .dataframe tbody tr th {\n",
       "        vertical-align: top;\n",
       "    }\n",
       "\n",
       "    .dataframe thead th {\n",
       "        text-align: right;\n",
       "    }\n",
       "</style>\n",
       "<table border=\"1\" class=\"dataframe\">\n",
       "  <thead>\n",
       "    <tr style=\"text-align: right;\">\n",
       "      <th></th>\n",
       "      <th>state</th>\n",
       "      <th>called</th>\n",
       "      <th>final</th>\n",
       "      <th>dem_votes</th>\n",
       "      <th>rep_votes</th>\n",
       "      <th>other_votes</th>\n",
       "      <th>dem_percent</th>\n",
       "      <th>rep_percent</th>\n",
       "      <th>other_percent</th>\n",
       "      <th>dem_this_margin</th>\n",
       "      <th>...</th>\n",
       "      <th>stateid</th>\n",
       "      <th>EV</th>\n",
       "      <th>X</th>\n",
       "      <th>Y</th>\n",
       "      <th>State_num</th>\n",
       "      <th>Center_X</th>\n",
       "      <th>Center_Y</th>\n",
       "      <th>Unnamed: 19</th>\n",
       "      <th>2016 Margin</th>\n",
       "      <th>Total 2016 Votes</th>\n",
       "    </tr>\n",
       "  </thead>\n",
       "  <tbody>\n",
       "    <tr>\n",
       "      <th>0</th>\n",
       "      <td>U.S. Total</td>\n",
       "      <td>No</td>\n",
       "      <td>No</td>\n",
       "      <td>81,281,672</td>\n",
       "      <td>74,221,585</td>\n",
       "      <td>2,898,868</td>\n",
       "      <td>51.30%</td>\n",
       "      <td>46.90%</td>\n",
       "      <td>1.80%</td>\n",
       "      <td>4.50%</td>\n",
       "      <td>...</td>\n",
       "      <td>NaN</td>\n",
       "      <td>NaN</td>\n",
       "      <td>NaN</td>\n",
       "      <td>NaN</td>\n",
       "      <td>NaN</td>\n",
       "      <td>NaN</td>\n",
       "      <td>NaN</td>\n",
       "      <td>NaN</td>\n",
       "      <td>0.020995</td>\n",
       "      <td>136,639,848</td>\n",
       "    </tr>\n",
       "    <tr>\n",
       "      <th>1</th>\n",
       "      <td>Arizona</td>\n",
       "      <td>D</td>\n",
       "      <td>Yes</td>\n",
       "      <td>1,672,143</td>\n",
       "      <td>1,661,686</td>\n",
       "      <td>53,497</td>\n",
       "      <td>49.40%</td>\n",
       "      <td>49.10%</td>\n",
       "      <td>1.60%</td>\n",
       "      <td>0.30%</td>\n",
       "      <td>...</td>\n",
       "      <td>AZ</td>\n",
       "      <td>11.0</td>\n",
       "      <td>2.0</td>\n",
       "      <td>2.0</td>\n",
       "      <td>4.0</td>\n",
       "      <td>205.0</td>\n",
       "      <td>374.0</td>\n",
       "      <td>NaN</td>\n",
       "      <td>-0.035456</td>\n",
       "      <td>2,573,165</td>\n",
       "    </tr>\n",
       "    <tr>\n",
       "      <th>2</th>\n",
       "      <td>Florida</td>\n",
       "      <td>R</td>\n",
       "      <td>Yes</td>\n",
       "      <td>5,297,045</td>\n",
       "      <td>5,668,731</td>\n",
       "      <td>101,680</td>\n",
       "      <td>47.90%</td>\n",
       "      <td>51.20%</td>\n",
       "      <td>0.90%</td>\n",
       "      <td>-3.40%</td>\n",
       "      <td>...</td>\n",
       "      <td>FL</td>\n",
       "      <td>29.0</td>\n",
       "      <td>8.0</td>\n",
       "      <td>0.0</td>\n",
       "      <td>12.0</td>\n",
       "      <td>787.0</td>\n",
       "      <td>520.0</td>\n",
       "      <td>NaN</td>\n",
       "      <td>-0.011986</td>\n",
       "      <td>9,420,039</td>\n",
       "    </tr>\n",
       "    <tr>\n",
       "      <th>3</th>\n",
       "      <td>Georgia</td>\n",
       "      <td>D</td>\n",
       "      <td>Yes</td>\n",
       "      <td>2,474,507</td>\n",
       "      <td>2,461,837</td>\n",
       "      <td>62,138</td>\n",
       "      <td>49.50%</td>\n",
       "      <td>49.30%</td>\n",
       "      <td>1.20%</td>\n",
       "      <td>0.30%</td>\n",
       "      <td>...</td>\n",
       "      <td>GA</td>\n",
       "      <td>16.0</td>\n",
       "      <td>7.0</td>\n",
       "      <td>1.0</td>\n",
       "      <td>13.0</td>\n",
       "      <td>734.0</td>\n",
       "      <td>419.0</td>\n",
       "      <td>NaN</td>\n",
       "      <td>-0.051313</td>\n",
       "      <td>4,092,373</td>\n",
       "    </tr>\n",
       "    <tr>\n",
       "      <th>4</th>\n",
       "      <td>Iowa</td>\n",
       "      <td>R</td>\n",
       "      <td>Yes</td>\n",
       "      <td>759,061</td>\n",
       "      <td>897,672</td>\n",
       "      <td>34,138</td>\n",
       "      <td>44.90%</td>\n",
       "      <td>53.10%</td>\n",
       "      <td>2.00%</td>\n",
       "      <td>-8.20%</td>\n",
       "      <td>...</td>\n",
       "      <td>IA</td>\n",
       "      <td>6.0</td>\n",
       "      <td>5.0</td>\n",
       "      <td>4.0</td>\n",
       "      <td>19.0</td>\n",
       "      <td>536.0</td>\n",
       "      <td>223.0</td>\n",
       "      <td>NaN</td>\n",
       "      <td>-0.094068</td>\n",
       "      <td>1,566,031</td>\n",
       "    </tr>\n",
       "  </tbody>\n",
       "</table>\n",
       "<p>5 rows × 22 columns</p>\n",
       "</div>"
      ],
      "text/plain": [
       "        state called final   dem_votes   rep_votes other_votes dem_percent  \\\n",
       "0  U.S. Total     No    No  81,281,672  74,221,585   2,898,868      51.30%   \n",
       "1     Arizona      D   Yes   1,672,143   1,661,686      53,497      49.40%   \n",
       "2     Florida      R   Yes   5,297,045   5,668,731     101,680      47.90%   \n",
       "3     Georgia      D   Yes   2,474,507   2,461,837      62,138      49.50%   \n",
       "4        Iowa      R   Yes     759,061     897,672      34,138      44.90%   \n",
       "\n",
       "  rep_percent other_percent dem_this_margin  ... stateid    EV    X    Y  \\\n",
       "0      46.90%         1.80%           4.50%  ...     NaN   NaN  NaN  NaN   \n",
       "1      49.10%         1.60%           0.30%  ...      AZ  11.0  2.0  2.0   \n",
       "2      51.20%         0.90%          -3.40%  ...      FL  29.0  8.0  0.0   \n",
       "3      49.30%         1.20%           0.30%  ...      GA  16.0  7.0  1.0   \n",
       "4      53.10%         2.00%          -8.20%  ...      IA   6.0  5.0  4.0   \n",
       "\n",
       "   State_num  Center_X  Center_Y  Unnamed: 19  2016 Margin  Total 2016 Votes  \n",
       "0        NaN       NaN       NaN          NaN     0.020995       136,639,848  \n",
       "1        4.0     205.0     374.0          NaN    -0.035456         2,573,165  \n",
       "2       12.0     787.0     520.0          NaN    -0.011986         9,420,039  \n",
       "3       13.0     734.0     419.0          NaN    -0.051313         4,092,373  \n",
       "4       19.0     536.0     223.0          NaN    -0.094068         1,566,031  \n",
       "\n",
       "[5 rows x 22 columns]"
      ]
     },
     "execution_count": 45,
     "metadata": {},
     "output_type": "execute_result"
    }
   ],
   "source": [
    "csv_file = \"Resources/2020_Results.csv\"\n",
    "Results_2020_df=pd.read_csv(csv_file, encoding='UTF-8')\n",
    "Results_2020_df.head()"
   ]
  },
  {
   "cell_type": "code",
   "execution_count": 46,
   "metadata": {},
   "outputs": [
    {
     "data": {
      "text/html": [
       "<div>\n",
       "<style scoped>\n",
       "    .dataframe tbody tr th:only-of-type {\n",
       "        vertical-align: middle;\n",
       "    }\n",
       "\n",
       "    .dataframe tbody tr th {\n",
       "        vertical-align: top;\n",
       "    }\n",
       "\n",
       "    .dataframe thead th {\n",
       "        text-align: right;\n",
       "    }\n",
       "</style>\n",
       "<table border=\"1\" class=\"dataframe\">\n",
       "  <thead>\n",
       "    <tr style=\"text-align: right;\">\n",
       "      <th></th>\n",
       "      <th>stateid</th>\n",
       "      <th>state</th>\n",
       "      <th>dem_percent</th>\n",
       "      <th>rep_percent</th>\n",
       "      <th>other_percent</th>\n",
       "    </tr>\n",
       "  </thead>\n",
       "  <tbody>\n",
       "    <tr>\n",
       "      <th>1</th>\n",
       "      <td>AZ</td>\n",
       "      <td>Arizona</td>\n",
       "      <td>49.40%</td>\n",
       "      <td>49.10%</td>\n",
       "      <td>1.60%</td>\n",
       "    </tr>\n",
       "    <tr>\n",
       "      <th>2</th>\n",
       "      <td>FL</td>\n",
       "      <td>Florida</td>\n",
       "      <td>47.90%</td>\n",
       "      <td>51.20%</td>\n",
       "      <td>0.90%</td>\n",
       "    </tr>\n",
       "    <tr>\n",
       "      <th>3</th>\n",
       "      <td>GA</td>\n",
       "      <td>Georgia</td>\n",
       "      <td>49.50%</td>\n",
       "      <td>49.30%</td>\n",
       "      <td>1.20%</td>\n",
       "    </tr>\n",
       "    <tr>\n",
       "      <th>4</th>\n",
       "      <td>IA</td>\n",
       "      <td>Iowa</td>\n",
       "      <td>44.90%</td>\n",
       "      <td>53.10%</td>\n",
       "      <td>2.00%</td>\n",
       "    </tr>\n",
       "    <tr>\n",
       "      <th>5</th>\n",
       "      <td>MI</td>\n",
       "      <td>Michigan</td>\n",
       "      <td>50.60%</td>\n",
       "      <td>47.80%</td>\n",
       "      <td>1.50%</td>\n",
       "    </tr>\n",
       "  </tbody>\n",
       "</table>\n",
       "</div>"
      ],
      "text/plain": [
       "  stateid     state dem_percent rep_percent other_percent\n",
       "1      AZ   Arizona      49.40%      49.10%         1.60%\n",
       "2      FL   Florida      47.90%      51.20%         0.90%\n",
       "3      GA   Georgia      49.50%      49.30%         1.20%\n",
       "4      IA      Iowa      44.90%      53.10%         2.00%\n",
       "5      MI  Michigan      50.60%      47.80%         1.50%"
      ]
     },
     "execution_count": 46,
     "metadata": {},
     "output_type": "execute_result"
    }
   ],
   "source": [
    "#drop Extra Columns,drop US Total\n",
    "Results_2020_df=Results_2020_df[['stateid','state','dem_percent','rep_percent','other_percent']]\n",
    "Results_2020_df=Results_2020_df.drop([0])\n",
    "Results_2020_df.head()\n"
   ]
  },
  {
   "cell_type": "code",
   "execution_count": 47,
   "metadata": {},
   "outputs": [],
   "source": [
    "#check all data\n",
    "#Results_2020_df.head(55)"
   ]
  },
  {
   "cell_type": "code",
   "execution_count": 48,
   "metadata": {},
   "outputs": [
    {
     "data": {
      "text/plain": [
       "stateid           object\n",
       "state             object\n",
       "dem_percent      float64\n",
       "rep_percent      float64\n",
       "other_percent    float64\n",
       "dtype: object"
      ]
     },
     "execution_count": 48,
     "metadata": {},
     "output_type": "execute_result"
    }
   ],
   "source": [
    "#reformat numeric columns\n",
    "\n",
    "Results_2020_df = Results_2020_df.replace('%','', regex=True)\n",
    "Results_2020_df['dem_percent'] = Results_2020_df['dem_percent'].apply(pd.to_numeric, errors='coerce')\n",
    "Results_2020_df['rep_percent'] = Results_2020_df['rep_percent'].apply(pd.to_numeric, errors='coerce')\n",
    "Results_2020_df['other_percent'] = Results_2020_df['other_percent'].apply(pd.to_numeric, errors='coerce')\n",
    "\n",
    "Results_2020_df.head()\n",
    "Results_2020_df.dtypes"
   ]
  },
  {
   "cell_type": "code",
   "execution_count": 49,
   "metadata": {},
   "outputs": [],
   "source": [
    "#connect to local DataBase\n",
    "from sqlalchemy import create_engine\n",
    "from api_keys import user\n",
    "from api_keys import password\n"
   ]
  },
  {
   "cell_type": "code",
   "execution_count": 50,
   "metadata": {},
   "outputs": [],
   "source": [
    "rds_connection_string =(f\"{user}:{password}@localhost:5432/ETL_Project_db\")\n",
    "engine = create_engine(f'postgresql://{rds_connection_string}')"
   ]
  },
  {
   "cell_type": "code",
   "execution_count": 51,
   "metadata": {},
   "outputs": [],
   "source": [
    "#load 2020 turnout table to database\n",
    "voter_2020_df.to_sql(name='turnout_2020', con=engine, if_exists='append', index=False)"
   ]
  },
  {
   "cell_type": "code",
   "execution_count": 52,
   "metadata": {},
   "outputs": [],
   "source": [
    "#load 2016 turnout table to database\n",
    "voter_2016_df.to_sql(name='turnout_2016', con=engine, if_exists='append', index=False)"
   ]
  },
  {
   "cell_type": "code",
   "execution_count": 53,
   "metadata": {},
   "outputs": [],
   "source": [
    "#load 2020 results table to database\n",
    "Results_2020_df.to_sql(name='results_2020', con=engine, if_exists='append', index=False)"
   ]
  },
  {
   "cell_type": "code",
   "execution_count": 54,
   "metadata": {},
   "outputs": [],
   "source": [
    "#load 2016 results table to database\n",
    "Results_2016_df.to_sql(name='results_2016', con=engine, if_exists='append', index=False)"
   ]
  },
  {
   "cell_type": "code",
   "execution_count": null,
   "metadata": {},
   "outputs": [],
   "source": []
  }
 ],
 "metadata": {
  "kernelspec": {
   "display_name": "Python [conda env:pythondata] *",
   "language": "python",
   "name": "conda-env-pythondata-py"
  },
  "language_info": {
   "codemirror_mode": {
    "name": "ipython",
    "version": 3
   },
   "file_extension": ".py",
   "mimetype": "text/x-python",
   "name": "python",
   "nbconvert_exporter": "python",
   "pygments_lexer": "ipython3",
   "version": "3.7.1"
  }
 },
 "nbformat": 4,
 "nbformat_minor": 4
}
